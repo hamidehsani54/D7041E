{
 "cells": [
  {
   "cell_type": "code",
   "execution_count": 83,
   "id": "4d64402d-57c3-4d1b-8bfa-d6500289c9b7",
   "metadata": {
    "pycharm": {
     "is_executing": true
    }
   },
   "outputs": [
    {
     "name": "stderr",
     "output_type": "stream",
     "text": [
      "[nltk_data] Downloading package wordnet to\n",
      "[nltk_data]     C:\\Users\\User\\AppData\\Roaming\\nltk_data...\n",
      "[nltk_data]   Package wordnet is already up-to-date!\n",
      "[nltk_data] Downloading package omw-1.4 to\n",
      "[nltk_data]     C:\\Users\\User\\AppData\\Roaming\\nltk_data...\n",
      "[nltk_data]   Package omw-1.4 is already up-to-date!\n"
     ]
    },
    {
     "name": "stdout",
     "output_type": "stream",
     "text": [
      "business\n",
      "entertainment\n",
      "politics\n",
      "sport\n",
      "tech\n"
     ]
    }
   ],
   "source": [
    "#%%\n",
    "import nltk\n",
    "import os\n",
    "import numpy as np\n",
    "import random\n",
    "from sklearn.model_selection import train_test_split\n",
    "import unidecode as un\n",
    "letters = \" abcdefghijklmnopqrstuvwxyz\"\n",
    "text_data =[]\n",
    "text_lable =[]\n",
    "\n",
    "lemmatizer = nltk.WordNetLemmatizer()\n",
    "\n",
    "nltk.download('wordnet')\n",
    "nltk.download('omw-1.4')\n",
    "\n",
    "#preprocessing\n",
    "for folder in os.listdir(\"bbc\"):\n",
    "    print(folder)\n",
    "    for filename in os.listdir(\"bbc/\" + folder):\n",
    "        data = open(\"bbc/\" + folder + \"/\" + filename, mode='r', encoding=\"unicode_escape\")\n",
    "        for line in data:\n",
    "            df = un.unidecode(line).lower()\n",
    "            for x in df:\n",
    "                if(x not in letters):\n",
    "                    df = df.replace(x, '')\n",
    "            output = ' '.join(\n",
    "            [lemmatizer.lemmatize(w) for w in df.rstrip().split()]\n",
    "            )\n",
    "        text_lable.append(folder)            \n",
    "        text_data.append(output)\n",
    "            \n",
    "       \n"
   ]
  },
  {
   "cell_type": "code",
   "execution_count": 43,
   "id": "3ff55874-a830-465a-a5d4-65fa69bd5b26",
   "metadata": {},
   "outputs": [],
   "source": [
    "#text_data\n"
   ]
  },
  {
   "cell_type": "code",
   "execution_count": 84,
   "id": "90d49500",
   "metadata": {},
   "outputs": [
    {
     "data": {
      "text/plain": [
       "2225"
      ]
     },
     "execution_count": 84,
     "metadata": {},
     "output_type": "execute_result"
    }
   ],
   "source": [
    "len(text_data)"
   ]
  },
  {
   "cell_type": "code",
   "execution_count": 85,
   "id": "b51a81f6",
   "metadata": {},
   "outputs": [
    {
     "data": {
      "text/plain": [
       "'tech'"
      ]
     },
     "execution_count": 85,
     "metadata": {},
     "output_type": "execute_result"
    }
   ],
   "source": [
    "text_lable[2224]"
   ]
  },
  {
   "cell_type": "code",
   "execution_count": 86,
   "id": "8499906e",
   "metadata": {},
   "outputs": [],
   "source": [
    "tr_data = text_data[:1668]\n",
    "tr_label = text_lable[:1668]\n",
    "\n",
    "test_data = text_data[1668:]\n",
    "test_label = text_lable[1668:]\n",
    "\n"
   ]
  },
  {
   "cell_type": "code",
   "execution_count": 87,
   "id": "2b8ca053",
   "metadata": {},
   "outputs": [],
   "source": [
    "c = list(zip(tr_data, tr_label))\n",
    "random.shuffle(c)\n",
    "\n",
    "a,b = zip(*c)\n"
   ]
  },
  {
   "cell_type": "code",
   "execution_count": 88,
   "id": "0db15dc7-e9ff-4669-80cf-a9fc218ec868",
   "metadata": {},
   "outputs": [
    {
     "data": {
      "text/plain": [
       "['hour',\n",
       " 'when',\n",
       " 'i',\n",
       " 'be',\n",
       " 'a',\n",
       " 'kid',\n",
       " 'at',\n",
       " 'school',\n",
       " 'and',\n",
       " 'i',\n",
       " 'be',\n",
       " 'on',\n",
       " 'half',\n",
       " 'term',\n",
       " 'ultima',\n",
       " 'online',\n",
       " 'be',\n",
       " 'the',\n",
       " 'game',\n",
       " 'ahhhh',\n",
       " 'them',\n",
       " 'be',\n",
       " 'the',\n",
       " 'day',\n",
       " 'lol']"
      ]
     },
     "execution_count": 88,
     "metadata": {},
     "output_type": "execute_result"
    }
   ],
   "source": [
    "\n",
    "[lemmatizer.lemmatize(lemmatizer.lemmatize(lemmatizer.lemmatize(w, 'v'), 'n'), 'a') for w in df.rstrip().split()]"
   ]
  },
  {
   "cell_type": "code",
   "execution_count": 113,
   "id": "f20e3fbe-66e7-4f34-8447-c36cb52d7a09",
   "metadata": {},
   "outputs": [],
   "source": [
    "from sklearn.ensemble import RandomForestClassifier\n",
    "from sklearn.model_selection import cross_val_score\n",
    "from sklearn.model_selection import train_test_split\n",
    "from sklearn.feature_extraction.text import TfidfVectorizer\n",
    "\n",
    "model= RandomForestClassifier()"
   ]
  },
  {
   "cell_type": "code",
   "execution_count": 116,
   "id": "8ae4b5a1-111b-40cb-9244-4bb87aa442c6",
   "metadata": {},
   "outputs": [
    {
     "ename": "NameError",
     "evalue": "name 'tfidf_feature' is not defined",
     "output_type": "error",
     "traceback": [
      "\u001b[1;31m---------------------------------------------------------------------------\u001b[0m",
      "\u001b[1;31mNameError\u001b[0m                                 Traceback (most recent call last)",
      "\u001b[1;32m~\\AppData\\Local\\Temp\\ipykernel_356\\2327523006.py\u001b[0m in \u001b[0;36m<module>\u001b[1;34m\u001b[0m\n\u001b[1;32m----> 1\u001b[1;33m \u001b[0mX_train\u001b[0m\u001b[1;33m,\u001b[0m \u001b[0mX_test\u001b[0m\u001b[1;33m,\u001b[0m \u001b[0my_train\u001b[0m\u001b[1;33m,\u001b[0m \u001b[0my_test\u001b[0m \u001b[1;33m=\u001b[0m \u001b[0mtrain_test_split\u001b[0m\u001b[1;33m(\u001b[0m\u001b[0mtfidf_feature\u001b[0m\u001b[1;33m,\u001b[0m \u001b[0mlables\u001b[0m\u001b[1;33m,\u001b[0m \u001b[0mtest_size\u001b[0m\u001b[1;33m=\u001b[0m\u001b[1;36m0.25\u001b[0m\u001b[1;33m,\u001b[0m \u001b[0mrandom_state\u001b[0m\u001b[1;33m=\u001b[0m\u001b[1;36m0\u001b[0m\u001b[1;33m)\u001b[0m\u001b[1;33m\u001b[0m\u001b[1;33m\u001b[0m\u001b[0m\n\u001b[0m",
      "\u001b[1;31mNameError\u001b[0m: name 'tfidf_feature' is not defined"
     ]
    }
   ],
   "source": [
    "\n",
    "X_train, X_test, y_train, y_test = train_test_split(tfidf_feature, lables, test_size=0.25, random_state=0)"
   ]
  },
  {
   "cell_type": "code",
   "execution_count": 117,
   "id": "6399c1ac-e69e-4d01-85aa-56d8443d6401",
   "metadata": {},
   "outputs": [
    {
     "data": {
      "text/plain": [
       "RandomForestClassifier()"
      ]
     },
     "execution_count": 117,
     "metadata": {},
     "output_type": "execute_result"
    }
   ],
   "source": [
    "model.fit(X_train, y_train)"
   ]
  },
  {
   "cell_type": "code",
   "execution_count": 118,
   "id": "c008ee86-3075-43de-9b5b-ce2b41421253",
   "metadata": {},
   "outputs": [
    {
     "ename": "NameError",
     "evalue": "name 'pickle' is not defined",
     "output_type": "error",
     "traceback": [
      "\u001b[1;31m---------------------------------------------------------------------------\u001b[0m",
      "\u001b[1;31mNameError\u001b[0m                                 Traceback (most recent call last)",
      "\u001b[1;32m~\\AppData\\Local\\Temp\\ipykernel_356\\3319541801.py\u001b[0m in \u001b[0;36m<module>\u001b[1;34m\u001b[0m\n\u001b[0;32m      1\u001b[0m \u001b[1;32mwith\u001b[0m \u001b[0mopen\u001b[0m\u001b[1;33m(\u001b[0m\u001b[1;34m'news_classification_rf_model'\u001b[0m\u001b[1;33m,\u001b[0m \u001b[1;34m'wb'\u001b[0m\u001b[1;33m)\u001b[0m \u001b[1;32mas\u001b[0m \u001b[0moutput\u001b[0m\u001b[1;33m:\u001b[0m\u001b[1;33m\u001b[0m\u001b[1;33m\u001b[0m\u001b[0m\n\u001b[1;32m----> 2\u001b[1;33m     \u001b[0mpickle\u001b[0m\u001b[1;33m.\u001b[0m\u001b[0mdump\u001b[0m\u001b[1;33m(\u001b[0m\u001b[0mmodel\u001b[0m\u001b[1;33m,\u001b[0m \u001b[0moutput\u001b[0m\u001b[1;33m)\u001b[0m\u001b[1;33m\u001b[0m\u001b[1;33m\u001b[0m\u001b[0m\n\u001b[0m\u001b[0;32m      3\u001b[0m \u001b[1;33m\u001b[0m\u001b[0m\n",
      "\u001b[1;31mNameError\u001b[0m: name 'pickle' is not defined"
     ]
    }
   ],
   "source": [
    "with open('news_classification_rf_model', 'wb') as output:\n",
    "    pickle.dump(model, output)\n",
    "    "
   ]
  },
  {
   "cell_type": "code",
   "execution_count": 119,
   "id": "3396bfed-61a4-4a3f-bf10-5d909b15a5bc",
   "metadata": {},
   "outputs": [],
   "source": [
    "predicted_train = model.predict(X_train)\n",
    "predicted_train = model.predict(X_test)\n",
    "                    "
   ]
  }
 ],
 "metadata": {
  "kernelspec": {
   "display_name": "Python 3 (ipykernel)",
   "language": "python",
   "name": "python3"
  },
  "language_info": {
   "codemirror_mode": {
    "name": "ipython",
    "version": 3
   },
   "file_extension": ".py",
   "mimetype": "text/x-python",
   "name": "python",
   "nbconvert_exporter": "python",
   "pygments_lexer": "ipython3",
   "version": "3.9.13"
  },
  "pycharm": {
   "stem_cell": {
    "cell_type": "raw",
    "metadata": {
     "collapsed": false
    },
    "source": [
     "import os\n",
     "import numpy as np\n",
     "letters = \" abcdefghijklmnopqrstuvwxyz\"\n",
     "\n",
     "for folder in os.listdir(\"bbc\"):\n",
     "    print(folder)\n",
     "    for filename in os.listdir(\"bbc/\" + folder):\n",
     "        data = open(\"bbc/\" + folder + \"/\" + filename, mode='r', encoding='utf-8')\n",
     "        for line in data:\n",
     "            df = up.unidecode(line).lower()\n",
     "        for x in df:\n",
     "            if(x not in letters):\n",
     "                df = data.replace(x, '')"
    ]
   }
  }
 },
 "nbformat": 4,
 "nbformat_minor": 5
}
