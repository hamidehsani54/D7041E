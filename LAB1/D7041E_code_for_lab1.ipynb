{
 "cells": [
  {
   "cell_type": "code",
   "execution_count": 1,
   "metadata": {
    "pycharm": {
     "name": "#%%\n"
    }
   },
   "outputs": [],
   "source": [
    "import numpy as np\n",
    "from matplotlib import pyplot as plt\n",
    "from statistics import mode"
   ]
  },
  {
   "cell_type": "code",
   "execution_count": null,
   "metadata": {
    "pycharm": {
     "is_executing": true,
     "name": "#%%\n"
    }
   },
   "outputs": [],
   "source": [
    "import tensorflow as tf\n",
    "from tensorflow import keras\n",
    "from keras.datasets import mnist\n",
    "from sklearn import svm, datasets\n",
    "from sklearn.svm import SVC\n",
    "from sklearn.model_selection import train_test_split\n",
    "from sklearn.metrics import f1_score\n",
    "from sklearn.metrics import confusion_matrix\n",
    "\n"
   ]
  },
  {
   "cell_type": "code",
   "execution_count": null,
   "metadata": {
    "pycharm": {
     "is_executing": true,
     "name": "#%%\n"
    }
   },
   "outputs": [],
   "source": [
    "(Xtr, Ltr), (X_test, L_test)=mnist.load_data()"
   ]
  },
  {
   "cell_type": "code",
   "execution_count": null,
   "metadata": {
    "pycharm": {
     "is_executing": true,
     "name": "#%%\n"
    }
   },
   "outputs": [],
   "source": [
    "Xtr.shape"
   ]
  },
  {
   "cell_type": "code",
   "execution_count": null,
   "metadata": {
    "pycharm": {
     "is_executing": true,
     "name": "#%%\n"
    }
   },
   "outputs": [],
   "source": [
    "Image=Xtr[0,:,:]\n",
    "Label=Ltr[0]\n",
    "\n",
    "\n",
    "plt.title('Label is {Label}'.format(Label=Label))\n",
    "plt.imshow(Image)\n",
    "\n",
    "plt.show()\n",
    "plt.close()\n"
   ]
  },
  {
   "cell_type": "code",
   "execution_count": null,
   "metadata": {
    "pycharm": {
     "is_executing": true,
     "name": "#%%\n"
    }
   },
   "outputs": [],
   "source": [
    "fig, ax=plt.subplots(nrows=1, ncols=2, figsize=(15,15))\n",
    "ax0=plt.subplot(2,2,1)\n",
    "ax1=plt.subplot(2,2,2)\n",
    "\n",
    "Image=Xtr[0,:,:]\n",
    "Label=Ltr[0]\n",
    "Image1=Xtr[1,:,:]\n",
    "Label1=Ltr[1]\n",
    "\n",
    "\n",
    "ax0.set_title('Label is {Label}'.format(Label=Label))\n",
    "ax0.imshow(Image)\n",
    "ax1.set_title('Label is {Label}'.format(Label=Label1))\n",
    "ax1.imshow(Image1)\n",
    "\n",
    "\n",
    "plt.show()\n",
    "plt.close()\n"
   ]
  },
  {
   "cell_type": "code",
   "execution_count": null,
   "metadata": {
    "pycharm": {
     "is_executing": true,
     "name": "#%%\n"
    }
   },
   "outputs": [],
   "source": [
    "28*28"
   ]
  },
  {
   "cell_type": "code",
   "execution_count": null,
   "metadata": {
    "pycharm": {
     "is_executing": true,
     "name": "#%%\n"
    }
   },
   "outputs": [],
   "source": [
    "#Traing phase\n",
    "num_sample=500\n",
    "Tr_set=Xtr[:num_sample,:,:]\n",
    "Ltr_set=Ltr[:num_sample]\n",
    "\n",
    "#Tr_set=Tr_set.reshape(num_sample,Tr_set.shape[1]*Tr_set.shape[2])\n",
    "\n",
    "Tr_set=Tr_set.reshape(num_sample,Tr_set.shape[1]*Tr_set.shape[2]).astype(int)\n",
    "Tr_set.shape"
   ]
  },
  {
   "cell_type": "code",
   "execution_count": null,
   "metadata": {
    "pycharm": {
     "is_executing": true,
     "name": "#%%\n"
    }
   },
   "outputs": [],
   "source": [
    "def predict(X):\n",
    "    num_test=X.shape[0]\n",
    "    Lpred=np.zeros(num_test, dtype=Ltr_set.dtype)\n",
    "    \n",
    "    for i in range(num_test):\n",
    "        #distances=np.sum(np.abs(Tr_set-X[i,:]),axis=1)\n",
    "        distances=np.sqrt(np.sum((Tr_set-X[i,:])**2,axis=1))\n",
    "        \n",
    "        min_index= np.argmin(distances)\n",
    "        Lpred[i]=Ltr_set[min_index]\n",
    "    return Lpred"
   ]
  },
  {
   "cell_type": "code",
   "execution_count": null,
   "metadata": {
    "pycharm": {
     "is_executing": true,
     "name": "#%%\n"
    }
   },
   "outputs": [],
   "source": [
    "def KNNpredict(X, K):\n",
    "    num_test=X.shape[0]\n",
    "    Lpred=np.zeros(num_test, dtype=Ltr_set.dtype)\n",
    "    \n",
    "    for i in range(num_test):\n",
    "        #distances=np.sum(np.abs(Tr_set-X[i,:]),axis=1)\n",
    "        distances=np.sqrt(np.sum((Tr_set-X[i,:])**2,axis=1))\n",
    "        min_index= np.argsort(distances)[:K]\n",
    "        Lpred[i]=mode(Ltr_set[min_index])\n",
    "    return Lpred"
   ]
  },
  {
   "cell_type": "code",
   "execution_count": null,
   "metadata": {
    "pycharm": {
     "is_executing": true,
     "name": "#%%\n"
    }
   },
   "outputs": [],
   "source": [
    "Test_images=X_test.reshape(X_test.shape[0],X_test.shape[1]* X_test.shape[2])\n",
    "Labels_predicted=KNNpredict(Test_images,1)\n",
    "\n",
    "print(\"Accuracy:\", np.mean(Labels_predicted==L_test))\n",
    "\n"
   ]
  },
  {
   "cell_type": "code",
   "execution_count": null,
   "metadata": {
    "collapsed": true,
    "pycharm": {
     "is_executing": true,
     "name": "#%%\n"
    }
   },
   "outputs": [],
   "source": [
    "from keras.datasets import cifar10"
   ]
  },
  {
   "cell_type": "code",
   "execution_count": null,
   "metadata": {
    "pycharm": {
     "is_executing": true,
     "name": "#%%\n"
    }
   },
   "outputs": [],
   "source": [
    "(X1_train, y1_train), (X1_test, Y1_test) = cifar10.load_data()\n",
    "X1_train.shape"
   ]
  },
  {
   "cell_type": "code",
   "execution_count": null,
   "metadata": {
    "pycharm": {
     "is_executing": true,
     "name": "#%%\n"
    }
   },
   "outputs": [],
   "source": [
    "X = X1_train[:25]"
   ]
  },
  {
   "cell_type": "code",
   "execution_count": null,
   "metadata": {
    "pycharm": {
     "is_executing": true,
     "name": "#%%\n"
    }
   },
   "outputs": [],
   "source": [
    "X = X.reshape(X.shape[0], X.shape[1]*X.shape[2]*X.shape[3])"
   ]
  },
  {
   "cell_type": "code",
   "execution_count": null,
   "metadata": {
    "pycharm": {
     "is_executing": true,
     "name": "#%%\n"
    }
   },
   "outputs": [],
   "source": [
    "print(X.shape)"
   ]
  },
  {
   "cell_type": "code",
   "execution_count": null,
   "metadata": {
    "pycharm": {
     "is_executing": true,
     "name": "#%%\n"
    }
   },
   "outputs": [],
   "source": [
    "def plotImage(X):\n",
    "    plt.figure(figsize =(1.5, 1.5))\n",
    "    plt.imshow(X.reshape(32,32,3))\n",
    "    plt.show()\n",
    "    plt.close()"
   ]
  },
  {
   "cell_type": "code",
   "execution_count": null,
   "metadata": {
    "pycharm": {
     "is_executing": true,
     "name": "#%%\n"
    }
   },
   "outputs": [],
   "source": [
    "plotImage(X[24,:])"
   ]
  },
  {
   "cell_type": "code",
   "execution_count": null,
   "outputs": [],
   "source": [
    "from sklearn.model_selection import KFold\n",
    "\n",
    "\n",
    "def predictFoldKNN(train_data, val_data, label_train, k):\n",
    "    num_test= val_data.shape[0]\n",
    "    Lpred=np.zeros(num_test, dtype=label_train.dtype)\n",
    "\n",
    "    for i in range(0,num_test):\n",
    "        distances=np.sqrt(np.sum(np.square(np.abs(train_data-val_data[i,:])),axis=1))\n",
    "\n",
    "        min_index= np.argsort(distances)[:k]\n",
    "        Lpred[i]=mode(label_train[min_index])\n",
    "\n",
    "    return Lpred\n",
    "\n",
    "def KCrossValidation(train,label,k):\n",
    "    kf = KFold(n_splits=k)\n",
    "    accuracy = []\n",
    "    best_K = []\n",
    "    #Try which K gives the best accuracy, testing K: 1 - 20\n",
    "    for i in range(1,21):\n",
    "        for train_index, val_index in kf.split(train):\n",
    "            train_data, val_data = train[train_index], train[val_index]\n",
    "            label_data, label_val_data = label[train_index], label[val_index]\n",
    "\n",
    "            predicted = predictFoldKNN(train_data, val_data, label_data, i)\n",
    "            accuracy.append(np.mean(predicted==label_val_data))\n",
    "        best_K.append(np.mean(accuracy))\n",
    "\n",
    "    return best_K\n",
    "#Test_images=X_test.reshape(X_test.shape[0],X_test.shape[1]* X_test.shape[2])\n",
    "#Labels_predicted_k=predict(Test_images)\n",
    "\n",
    "#print(\"Accuracy:\", np.mean(KCrossValidation(Tr_set, Ltr_set,3)))\n",
    "a = KCrossValidation(Tr_set, Ltr_set,3)\n",
    "print(a)\n",
    "#Test accuracy for test images with k = 3"
   ],
   "metadata": {
    "collapsed": false,
    "pycharm": {
     "name": "#%%\n"
    }
   }
  },
  {
   "cell_type": "code",
   "execution_count": null,
   "outputs": [],
   "source": [
    "X_norm = X/255\n",
    "print(\"X.min()\", X_norm.min())\n",
    "print(\"X.max()\", X_norm.max())"
   ],
   "metadata": {
    "collapsed": false,
    "pycharm": {
     "name": "#%%\n"
    }
   }
  },
  {
   "cell_type": "code",
   "execution_count": null,
   "outputs": [],
   "source": [
    "X_norm.mean(axis=0)"
   ],
   "metadata": {
    "collapsed": false,
    "pycharm": {
     "name": "#%%\n"
    }
   }
  },
  {
   "cell_type": "code",
   "execution_count": null,
   "outputs": [],
   "source": [
    "X_norm = X_norm - X_norm.mean(axis=0)"
   ],
   "metadata": {
    "collapsed": false,
    "pycharm": {
     "name": "#%%\n"
    }
   }
  },
  {
   "cell_type": "code",
   "execution_count": null,
   "outputs": [],
   "source": [
    "X_norm.mean(axis=0)"
   ],
   "metadata": {
    "collapsed": false,
    "pycharm": {
     "name": "#%%\n"
    }
   }
  },
  {
   "cell_type": "code",
   "execution_count": null,
   "outputs": [],
   "source": [
    "cov = np.cov(X_norm, rowvar =False)"
   ],
   "metadata": {
    "collapsed": false,
    "pycharm": {
     "name": "#%%\n"
    }
   }
  },
  {
   "cell_type": "code",
   "execution_count": null,
   "outputs": [],
   "source": [
    "cov.shape"
   ],
   "metadata": {
    "collapsed": false,
    "pycharm": {
     "name": "#%%\n"
    }
   }
  },
  {
   "cell_type": "code",
   "execution_count": null,
   "outputs": [],
   "source": [
    "u,s,v = np.linalg.svd(cov)"
   ],
   "metadata": {
    "collapsed": false,
    "pycharm": {
     "name": "#%%\n"
    }
   }
  },
  {
   "cell_type": "code",
   "execution_count": null,
   "outputs": [],
   "source": [
    "print(u.shape, s.shape)"
   ],
   "metadata": {
    "collapsed": false,
    "pycharm": {
     "name": "#%%\n"
    }
   }
  },
  {
   "cell_type": "code",
   "execution_count": null,
   "outputs": [],
   "source": [
    "print(np.diag(s))"
   ],
   "metadata": {
    "collapsed": false,
    "pycharm": {
     "name": "#%%\n"
    }
   }
  },
  {
   "cell_type": "code",
   "execution_count": null,
   "outputs": [],
   "source": [
    "epsilon = 0.1\n",
    "X_ZCA = u.dot(np.diag(1.0/np.sqrt(s+epsilon))).dot(u.T).dot(X_norm.T).T"
   ],
   "metadata": {
    "collapsed": false,
    "pycharm": {
     "name": "#%%\n"
    }
   }
  },
  {
   "cell_type": "code",
   "execution_count": null,
   "outputs": [],
   "source": [
    "X_ZCA_rescaled = (X_ZCA - X_ZCA.min()) / (X_ZCA.max() - X_ZCA.min())\n",
    "print(\"min\", X_ZCA_rescaled.min())\n",
    "print(\"max\", X_ZCA_rescaled.max())"
   ],
   "metadata": {
    "collapsed": false,
    "pycharm": {
     "name": "#%%\n"
    }
   }
  },
  {
   "cell_type": "code",
   "execution_count": null,
   "outputs": [],
   "source": [
    "plotImage(X[12,:])\n",
    "plotImage(X_ZCA_rescaled[12,:])"
   ],
   "metadata": {
    "collapsed": false,
    "pycharm": {
     "name": "#%%\n"
    }
   }
  },
  {
   "cell_type": "code",
   "execution_count": null,
   "outputs": [],
   "source": [
    "t = np.load(\"vecs.npy\", allow_pickle=True)\n",
    "labels = []\n",
    "embeddings = []\n",
    "\n"
   ],
   "metadata": {
    "collapsed": false,
    "pycharm": {
     "name": "#%%\n"
    }
   }
  },
  {
   "cell_type": "code",
   "execution_count": null,
   "outputs": [],
   "source": [
    "def createArrays(pos):\n",
    "    for i in t.item()[pos]:\n",
    "        for j in t.item()[pos][i]:\n",
    "            labels.append(i)\n",
    "            embeddings.append(j)\n",
    "\n",
    "def randomPerm(x, y):\n",
    "    p = np.random.permutation(len(x))\n",
    "    return x[p], y[p]"
   ],
   "metadata": {
    "collapsed": false,
    "pycharm": {
     "name": "#%%\n"
    }
   }
  },
  {
   "cell_type": "code",
   "execution_count": null,
   "outputs": [],
   "source": [
    "createArrays('1_pos')\n",
    "numpyLabel = np.array(labels)\n",
    "numpyEmbedding = np.array(embeddings)\n",
    "numpyLabel, numpyEmbedding = randomPerm(numpyLabel, numpyEmbedding)\n",
    "print(numpyLabel)\n",
    "print(numpyEmbedding)"
   ],
   "metadata": {
    "collapsed": false,
    "pycharm": {
     "name": "#%%\n"
    }
   }
  },
  {
   "cell_type": "code",
   "execution_count": null,
   "outputs": [],
   "source": [
    "iris = datasets.load_iris()\n",
    "x = iris.data\n",
    "y = iris.target\n",
    "class_names = iris.target_names\n",
    "x_train , x_test, y_train, y_test = train_test_split(x,y, test_size = 0.2, train_size = 0.8)"
   ],
   "metadata": {
    "collapsed": false,
    "pycharm": {
     "name": "#%%\n"
    }
   }
  },
  {
   "cell_type": "code",
   "execution_count": null,
   "outputs": [],
   "source": [
    "linearOVO = svm.SVC(kernel = \"linear\",decision_function_shape = \"ovo\").fit(x_train, y_train)\n",
    "linearOVR = svm.SVC(kernel = \"linear\",decision_function_shape = \"ovr\").fit(x_train, y_train)\n",
    "polyOVO = svm.SVC(kernel = \"poly\",decision_function_shape = \"ovo\").fit(x_train, y_train)\n",
    "polyOVR = svm.SVC(kernel = \"poly\",decision_function_shape = \"ovr\").fit(x_train, y_train)\n",
    "rbfOVO = svm.SVC(kernel = \"rbf\",decision_function_shape = \"ovo\").fit(x_train, y_train)\n",
    "rbfOVR = svm.SVC(kernel = \"rbf\",decision_function_shape = \"ovr\").fit(x_train, y_train)\n"
   ],
   "metadata": {
    "collapsed": false,
    "pycharm": {
     "name": "#%%\n"
    }
   }
  },
  {
   "cell_type": "code",
   "execution_count": null,
   "outputs": [],
   "source": [
    "linOVOPred = linearOVO.predict(x_test)\n",
    "disp = confusion_matrix(linOVOPred, y_test)\n",
    "print(\"linear One vs One\")\n",
    "print(disp)\n",
    "print(\"f1 score = \", f1_score(y_test, linOVOPred, average = \"weighted\"), \"Accuracy =\", np.mean(linOVOPred == y_test))\n",
    "\n",
    "linOVRPred = linearOVR.predict(x_test)\n",
    "disp2 = confusion_matrix(linOVRPred, y_test)\n",
    "print(\"linear One vs Rest\")\n",
    "print(disp2)\n",
    "print(\"f1 score = \", f1_score(y_test, linOVRPred, average = \"weighted\"), \"Accuracy =\", np.mean(linOVRPred == y_test))\n",
    "\n",
    "polyOVOPred = polyOVO.predict(x_test)\n",
    "disp3 = confusion_matrix(polyOVOPred, y_test)\n",
    "print(\"poly One vs One\")\n",
    "print(disp3)\n",
    "print(\"f1 score = \", f1_score(y_test,polyOVOPred,  average = \"weighted\"), \"Accuracy =\", np.mean(polyOVOPred == y_test))\n",
    "\n",
    "polyOVRPred = polyOVR.predict(x_test)\n",
    "disp4 = confusion_matrix(polyOVRPred, y_test)\n",
    "print(\"poly One vs Rest\")\n",
    "print(disp4)\n",
    "print(\"f1 score = \", f1_score( y_test,polyOVRPred, average = \"weighted\"), \"Accuracy =\", np.mean(polyOVRPred == y_test))\n",
    "\n",
    "rbfOVOPred = rbfOVO.predict(x_test)\n",
    "disp5 = confusion_matrix(rbfOVOPred, y_test)\n",
    "print(\"rbf One vs One\")\n",
    "print(disp5)\n",
    "print(\"f1 score = \", f1_score(y_test,rbfOVOPred,  average = \"weighted\"), \"Accuracy =\", np.mean(rbfOVOPred == y_test))\n",
    "\n",
    "rbfOVRPred = rbfOVR.predict(x_test)\n",
    "disp6 = confusion_matrix(rbfOVRPred, y_test)\n",
    "print(\"rbf One vs Rest\")\n",
    "print(disp6)\n",
    "print(\"f1 score = \", f1_score( y_test, rbfOVRPred, average = \"weighted\"), \"Accuracy =\", np.mean(rbfOVRPred == y_test))"
   ],
   "metadata": {
    "collapsed": false,
    "pycharm": {
     "name": "#%%\n"
    }
   }
  },
  {
   "cell_type": "code",
   "execution_count": null,
   "outputs": [],
   "source": [
    "w = linearOVR.coef_[0]\n",
    "a = -w[1]/w[2]\n",
    "xx = np.linspace(1.5, 4.5)\n",
    "yy = a * xx - (linearOVR.intercept_[0]) / w[2]\n",
    "margin = 1 / np.sqrt(np.sum(linearOVR.coef_ **2))\n",
    "yy_down = yy -np.sqrt(1 + a **2) * margin\n",
    "yy_up = yy + np.sqrt(1 + a ** 2) * margin\n",
    "print(linearOVR.coef_[0])"
   ],
   "metadata": {
    "collapsed": false,
    "pycharm": {
     "name": "#%%\n"
    }
   }
  },
  {
   "cell_type": "code",
   "execution_count": null,
   "outputs": [],
   "source": [
    "plt.figure(1, figsize = (7,5))\n",
    "plt.clf()\n",
    "plt.plot(xx , yy , \"k-\")\n",
    "plt.plot(xx , yy_down, \"k-\")\n",
    "plt.plot(xx, yy_up, \"k-\")\n",
    "plt.scatter(linearOVR.support_vectors_[:, 1], linearOVR.support_vectors_[:,2], s= 80, facecolors = \"none\", zorder = 10, edgecolors = \"k\" )\n",
    "plt.scatter(x_train[:,1], x_train[:, 2], c = y_train, zorder = 10, cmap = plt.cm.Paired, edgecolors = \"k\")\n",
    "plt.xlabel(iris.feature_names[1])\n",
    "plt.ylabel(iris.feature_names[2])\n",
    "plt.show()"
   ],
   "metadata": {
    "collapsed": false,
    "pycharm": {
     "name": "#%%\n"
    }
   }
  },
  {
   "cell_type": "code",
   "execution_count": null,
   "outputs": [],
   "source": [
    "w = linearOVR.coef_[0]\n",
    "a = -w[2]/w[3]\n",
    "xx = np.linspace(0, 8)\n",
    "yy = a * xx - (linearOVR.intercept_[0]) / w[3]\n",
    "margin = 1 / np.sqrt(np.sum(linearOVR.coef_ **2))\n",
    "yy_down = yy -np.sqrt(1 + a **2) * margin\n",
    "yy_up = yy + np.sqrt(1 + a ** 2) * margin\n",
    "print(linearOVR.coef_[0])"
   ],
   "metadata": {
    "collapsed": false,
    "pycharm": {
     "name": "#%%\n"
    }
   }
  },
  {
   "cell_type": "code",
   "execution_count": null,
   "outputs": [],
   "source": [
    "plt.figure(1, figsize = (7,5))\n",
    "plt.clf()\n",
    "plt.plot(xx , yy , \"k-\")\n",
    "plt.plot(xx , yy_down, \"k-\")\n",
    "plt.plot(xx, yy_up, \"k-\")\n",
    "plt.scatter(linearOVR.support_vectors_[:, 2], linearOVR.support_vectors_[:,3], s= 80, facecolors = \"none\", zorder = 10, edgecolors = \"k\" )\n",
    "plt.scatter(x_train[:,2], x_train[:, 3], c = y_train, zorder = 10, cmap = plt.cm.Paired, edgecolors = \"k\")\n",
    "plt.xlabel(iris.feature_names[2])\n",
    "plt.ylabel(iris.feature_names[3])\n",
    "plt.show()"
   ],
   "metadata": {
    "collapsed": false,
    "pycharm": {
     "name": "#%%\n"
    }
   }
  }
 ],
 "metadata": {
  "kernelspec": {
   "display_name": "Python 3 (ipykernel)",
   "language": "python",
   "name": "python3"
  },
  "language_info": {
   "codemirror_mode": {
    "name": "ipython",
    "version": 3
   },
   "file_extension": ".py",
   "mimetype": "text/x-python",
   "name": "python",
   "nbconvert_exporter": "python",
   "pygments_lexer": "ipython3",
   "version": "3.10.4"
  },
  "vscode": {
   "interpreter": {
    "hash": "41aa02a2870d6d538402c0035d910570a39f8af01a89a2a1dc2f03da3280f361"
   }
  }
 },
 "nbformat": 4,
 "nbformat_minor": 2
}